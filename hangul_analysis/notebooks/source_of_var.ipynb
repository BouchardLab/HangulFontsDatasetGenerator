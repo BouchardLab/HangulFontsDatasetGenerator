{
 "cells": [
  {
   "cell_type": "code",
   "execution_count": 1,
   "metadata": {},
   "outputs": [],
   "source": [
    "import h5py, os, sys\n",
    "import numpy as np\n",
    "import matplotlib\n",
    "import matplotlib.pyplot as plt\n",
    "from scipy.misc import imresize\n",
    "from matplotlib.patches import Rectangle\n",
    "from matplotlib.collections import PatchCollection\n",
    "\n",
    "from hangul.read_data import load_data\n",
    "from hangul.label_mapping import imf2idx\n",
    "from hangul.style import title_fontsize"
   ]
  },
  {
   "cell_type": "code",
   "execution_count": 2,
   "metadata": {},
   "outputs": [],
   "source": [
    "bf = '/storage/hangul/h5s'"
   ]
  },
  {
   "cell_type": "code",
   "execution_count": 3,
   "metadata": {},
   "outputs": [],
   "source": [
    "# load GothicA1-Regular\n",
    "image1, _, _, _, _ = load_data(os.path.join(bf, 'GothicA1-Regular/GothicA1-Regular_500.h5'), median_shape=True)\n",
    "image2, _, _, _, _ = load_data(os.path.join(bf, 'NanumMyeongjo/NanumMyeongjo_500.h5'), median_shape=True)\n",
    "image3, _, _, _, _ = load_data(os.path.join(bf, 'NanumPen/NanumPen_500.h5'), median_shape=True)"
   ]
  },
  {
   "cell_type": "code",
   "execution_count": 9,
   "metadata": {},
   "outputs": [
    {
     "name": "stdout",
     "output_type": "stream",
     "text": [
      "0.0031249999999999997 0.06666666666666667\n",
      "\n"
     ]
    },
    {
     "data": {
      "image/png": "[encoded data removed]",
      "text/plain": [
       "<Figure size 432x72 with 24 Axes>"
      ]
     },
     "metadata": {},
     "output_type": "display_data"
    }
   ],
   "source": [
    "figsize = (6, 1)\n",
    "fig = plt.figure(figsize=figsize)\n",
    "\n",
    "le = .005\n",
    "re = .005\n",
    "be = .01\n",
    "te = .15\n",
    "\n",
    "vg = .075\n",
    "h = (1. - te - be - vg) / 2.\n",
    "w = h * figsize[1] / figsize[0]\n",
    "\n",
    "shg = (vg * figsize[1] / figsize[0]) / 4.\n",
    "lhg = (1. - le - re - 12.*w - 8.*shg) / 3.\n",
    "bw = 3.*w + 2.*shg + lhg\n",
    "print(shg, lhg)\n",
    "print()\n",
    "\n",
    "axes = np.zeros((4, 2, 3), dtype=object)\n",
    "\n",
    "for gg in range(4):\n",
    "    for rr in range(2):\n",
    "        for cc in range(3):\n",
    "            axes[gg, rr, cc] = fig.add_axes([le + bw*gg + (w + shg)*cc,\n",
    "                                             be + (1. - rr)*(h + vg),\n",
    "                                             w, h])\n",
    "\n",
    "origins = [(250,0), (0,180), (0,210),\n",
    "           (250,0), (0,180), (0,210)]\n",
    "rects = [(150,450), (400,210), (400,240),\n",
    "         (150,450), (400,210), (400,240)]\n",
    "indices = [0,8,13,\n",
    "           2,12,17]\n",
    "idx = 0\n",
    "for rr in range(2):\n",
    "    for cc in range(3):\n",
    "        ax = axes[0, rr, cc]\n",
    "        imf_idx = imf2idx(0, indices[idx], 0)\n",
    "        ax.imshow(image1[imf_idx], cmap='gray_r')\n",
    "        rect = Rectangle((origins[idx][0], origins[idx][1]), rects[idx][0], rects[idx][1],\n",
    "                         alpha=0.2, color='red')\n",
    "        ax.add_patch(rect)\n",
    "        idx += 1\n",
    "        \n",
    "origins = [(0,30), (40,10), (30,10),\n",
    "           (0,10), (0,10), (20,0)]\n",
    "rects = [(220,360), (320,180), (250,150),\n",
    "         (220,360), (230,230), (210,140)]\n",
    "indices = [0,340,550,\n",
    "           6468,6469,6898]\n",
    "idx = 0\n",
    "for rr in range(2):\n",
    "    for cc in range(3):\n",
    "        ax = axes[1, rr, cc]\n",
    "        ax.imshow(image1[indices[idx]], cmap='gray_r')\n",
    "        rect = Rectangle((origins[idx][0], origins[idx][1]), rects[idx][0], rects[idx][1],\n",
    "                         alpha=0.2, color='red')\n",
    "        ax.add_patch(rect)\n",
    "        idx += 1\n",
    "\n",
    "origins = [(0,30), (40,20), (20,10),\n",
    "           (0,10), (20,0), (20,0)]\n",
    "rects = [(220,340), (320,230), (200,140),\n",
    "         (250,380), (360,200), (280,180)]\n",
    "indices = [3528,3864,3964,\n",
    "           10584,10817,11059]\n",
    "idx = 0\n",
    "for rr in range(2):\n",
    "    for cc in range(3):\n",
    "        ax = axes[2, rr, cc]\n",
    "        ax.imshow(image1[indices[idx]], cmap='gray_r')\n",
    "        rect = Rectangle((origins[idx][0], origins[idx][1]), rects[idx][0], rects[idx][1],\n",
    "                         alpha=0.2, color='red')\n",
    "        ax.add_patch(rect)\n",
    "        idx += 1\n",
    "\n",
    "indices = [0, 6478]\n",
    "imgs = [image1, image2, image3]\n",
    "for cc in range(3):\n",
    "    rr = 0\n",
    "    ax = axes[3, rr, cc]\n",
    "    img = imgs[cc]\n",
    "    ax.imshow(img[indices[rr]], cmap='gray_r')\n",
    "    rr = 1\n",
    "    ax = axes[3, rr, cc]\n",
    "    img = imgs[cc]\n",
    "    ax.imshow(img[indices[rr]], cmap='gray_r')\n",
    "\n",
    "\n",
    "axes[0, 0, 1].set_title('Rotation', size=title_fontsize, pad=3)\n",
    "axes[1, 0, 1].set_title('Scale', size=title_fontsize, pad=3)\n",
    "axes[2, 0, 1].set_title('Translation', size=title_fontsize, pad=3)\n",
    "axes[3, 0, 1].set_title('Style', size=title_fontsize, pad=3)\n",
    "for ax in axes.ravel():\n",
    "    ax.set_xticks([])\n",
    "    ax.set_yticks([])\n",
    "    for axis in ['top','bottom','left','right']:\n",
    "        ax.spines[axis].set_linewidth(0.5)\n",
    "\n",
    "plt.savefig('composition.png', dpi=300)\n",
    "plt.savefig('composition.pdf', dpi=300)"
   ]
  },
  {
   "cell_type": "code",
   "execution_count": null,
   "metadata": {},
   "outputs": [],
   "source": []
  }
 ],
 "metadata": {
  "kernelspec": {
   "display_name": "Python 3",
   "language": "python",
   "name": "python3"
  },
  "language_info": {
   "codemirror_mode": {
    "name": "ipython",
    "version": 3
   },
   "file_extension": ".py",
   "mimetype": "text/x-python",
   "name": "python",
   "nbconvert_exporter": "python",
   "pygments_lexer": "ipython3",
   "version": "3.6.8"
  }
 },
 "nbformat": 4,
 "nbformat_minor": 2
}
