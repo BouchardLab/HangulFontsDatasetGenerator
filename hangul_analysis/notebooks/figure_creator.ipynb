{
 "cells": [
  {
   "cell_type": "code",
   "execution_count": null,
   "metadata": {},
   "outputs": [],
   "source": [
    "import matplotlib.pyplot as plt\n",
    "import matplotlib.image as mpimg\n",
    "from matplotlib import gridspec\n",
    "import argparse, os, pickle, glob, h5py\n",
    "import numpy as np\n",
    "from hangul.ml import LeaveOneFontOutCV\n",
    "from torch.utils.data import DataLoader, TensorDataset\n",
    "import torch\n",
    "from pathlib import Path\n",
    "from scripts.functions import *\n",
    "from hangul.label_mapping import imf2idx, idx2imf\n",
    "from hangul import style\n",
    "from scripts.reimp import ReImp\n",
    "%load_ext autoreload\n",
    "%autoreload 2\n",
    "device = 'cuda:1'"
   ]
  },
  {
   "cell_type": "code",
   "execution_count": null,
   "metadata": {},
   "outputs": [],
   "source": [
    "def traverse(model, h_dim, kl_indexes, pixels, trav_path, number, si, low, high, trav_steps, mean_sample, seed, fold, pix, special=False, spec_imf=''):\n",
    "    with torch.no_grad():\n",
    "        pixels = torch.tensor([pixels] * h_dim).unsqueeze(1).float()\n",
    "        x, m_indices, sizes = model.encode(pixels)\n",
    "        mu, logvar = x[:, :h_dim], x[:, h_dim:]\n",
    "        std = torch.exp(0.5 * logvar)\n",
    "        eps = torch.randn_like(std)\n",
    "        actual, _, _ = model.forward(pixels)\n",
    "        actual = actual.view(-1, *si)\n",
    "        pixels = pixels[kl_indexes]\n",
    "        actual = actual[kl_indexes]\n",
    "        indices = torch.tensor(np.linspace(low, high, trav_steps))\n",
    "        image = torch.tensor([])\n",
    "        if mean_sample == 'mean':\n",
    "            for i in range(len(indices)):\n",
    "                mu_copy = mu.clone()\n",
    "                step = indices[i]\n",
    "                for j in range(h_dim):\n",
    "                    mu_copy[j, j] = step[j]\n",
    "\n",
    "                sample = mu_copy + std * eps\n",
    "                sample = model.decode(sample, m_indices.copy(), sizes.copy())\n",
    "                sample = sample.view(-1, *si)\n",
    "                sample = sample[kl_indexes]\n",
    "                image = torch.cat((image, sample))\n",
    "        elif mean_sample == 'sample':\n",
    "            for i in range(len(indices)):\n",
    "                step = indices[i]\n",
    "                sample = mu + std * eps\n",
    "                for j in range(h_dim):\n",
    "                    sample[j, j] = step[j]\n",
    "                sample = model.decode(sample, m_indices.copy(), sizes.copy())\n",
    "                \n",
    "                sample = sample.view(-1, *si)\n",
    "                sample = sample[kl_indexes]\n",
    "                image = torch.cat((image, sample))\n",
    "        else:\n",
    "            raise ValueError\n",
    "            \n",
    "        both = torch.cat((pixels.view(-1, *si),\n",
    "                          actual.view(-1, *si),\n",
    "                          image.view(-1, *si)))\n",
    "        if special:\n",
    "            save_image(both, os.path.join(trav_path,\n",
    "                                          f\"special_{spec_imf}_{seed}_{number}_{fold}_{mean_sample}_{high[0]}_{pix}_traversal.png\"),\n",
    "                       nrow=h_dim)\n",
    "        else:\n",
    "            save_image(both, os.path.join(trav_path,\n",
    "                                          f\"{seed}_{number}_{fold}_{mean_sample}_{high[0]}_{pix}_traversal.png\"),\n",
    "                       nrow=h_dim)"
   ]
  },
  {
   "cell_type": "code",
   "execution_count": null,
   "metadata": {},
   "outputs": [],
   "source": [
    "def col_plotter(ex, seed, fold, img_num, col, pix, special, trav_range, spec_imf=''):\n",
    "    fig, ax = plt.subplots(figsize=(20, 25))\n",
    "    final = []\n",
    "    im_dir = f'trav_short/{ex}_{seed}'\n",
    "    for i in range(len(pix)):\n",
    "        if special:\n",
    "            im_path = f\"{im_dir}/special_{spec_imf}_{seed}_{img_num}_{fold}_mean_{trav_range}_{pix[i]}_traversal.png\"\n",
    "        elif pix[i] == None:\n",
    "            im_path = f\"{im_dir}/{seed}_{img_num}_{fold}_mean_traversal.png\"\n",
    "        else:\n",
    "            im_path = f\"{im_dir}/{seed}_{img_num}_{fold}_mean_{trav_range}_{pix[i]}_traversal.png\"\n",
    "        img = mpimg.imread(im_path)\n",
    "        final.append(img[:, (col-1)*31:(col*31)])\n",
    "    final = np.concatenate(final, axis=1)\n",
    "    ax.imshow(final)\n",
    "    plt.xticks(np.arange(len(pix))*31, labels=np.arange(len(pix)))\n",
    "    plt.yticks(np.arange(22)*31, labels=np.arange(22))\n",
    "    return final"
   ]
  },
  {
   "cell_type": "code",
   "execution_count": null,
   "metadata": {},
   "outputs": [],
   "source": [
    "ex = 0\n",
    "seed = 0\n",
    "fold = 0\n",
    "img_num = 0\n",
    "col = 0\n",
    "imf = 'initial'\n",
    "im_dir = f'trav_short/{ex}_{seed}'\n",
    "os.makedirs(im_dir, exist_ok=True)"
   ]
  },
  {
   "cell_type": "code",
   "execution_count": null,
   "metadata": {},
   "outputs": [],
   "source": [
    "locs = os.walk('') # dataset location\n",
    "h5_files = []\n",
    "for base, _, fnames in locs:\n",
    "    for f in fnames:\n",
    "        if '{}.h5'.format(24) in f:\n",
    "            h5_files.append(os.path.join(base, f))\n",
    "ds = LeaveOneFontOutCV(h5_files, 0, mean_center=False, imf='i')\n",
    "X_train, y = ds.training_set()\n",
    "X_valid, yv = ds.validation_set()\n",
    "X_test, yt = ds.test_set()\n",
    "\n",
    "ds_train = DataLoader(TensorDataset(*[torch.tensor(t) for t in ds.training_set()]),\n",
    "                      batch_size=batch_size)\n",
    "ds_valid = DataLoader(TensorDataset(*[torch.tensor(t) for t in ds.validation_set()]),\n",
    "                      batch_size=batch_size)\n",
    "ds_test = DataLoader(TensorDataset(*[torch.tensor(t) for t in ds.test_set()]),\n",
    "                     batch_size=batch_size)\n",
    "si = torch.tensor(X_train[0]).unsqueeze(0).size()"
   ]
  },
  {
   "cell_type": "code",
   "execution_count": null,
   "metadata": {},
   "outputs": [],
   "source": [
    "Xt = np.concatenate((X_train, X_valid, X_test), axis=0)\n",
    "ds = torch.cat((ds_train.dataset.tensors[0], ds_valid.dataset.tensors[0], ds_test.dataset.tensors[0]))\n",
    "print(ds_train.batch_size)"
   ]
  },
  {
   "cell_type": "code",
   "execution_count": null,
   "metadata": {},
   "outputs": [],
   "source": [
    "model_id = f'{ex}_{fold}_{seed}'\n",
    "root = f'' # model location\n",
    "with open(f'{root}/model_params.pkl', 'rb') as f:\n",
    "    data = pickle.load(f)\n",
    "params = data[1]\n",
    "print(params)\n",
    "h_dim = params['h_dim']\n",
    "batch_size = params['batch_size']\n",
    "nfolds=7\n",
    "num_fonts = 5\n",
    "ps = list(Path(root).rglob('c*.pt'))\n",
    "mod = make_vae_model(data[0], params)\n",
    "mod.load_state_dict(torch.load(ps[0], map_location=device))\n",
    "print('loaded')"
   ]
  },
  {
   "cell_type": "code",
   "execution_count": null,
   "metadata": {},
   "outputs": [],
   "source": [
    "mod.eval()\n",
    "base_trav = im_dir\n",
    "if os.path.isfile(f\"{base_trav}/{seed}_{fold}_samples.npz\"):\n",
    "    samples = np.load(f\"{base_trav}/{seed}_{fold}_samples.npz\")\n",
    "    indexes = samples['kl_indices']\n",
    "else:\n",
    "    low_mean, high_mean, low_sample, high_sample, indexes = find_mean(\n",
    "        ps[0], base_trav, params, 7, [ds_train, ds_valid, ds_test],\n",
    "        [X_train, X_valid, X_test], device=device, seed=seed, fold=fold)\n",
    "indexes"
   ]
  },
  {
   "cell_type": "code",
   "execution_count": null,
   "metadata": {},
   "outputs": [],
   "source": [
    "trav_range = 2\n",
    "trav(ps[0], params, indexes, base_trav, si=si, low=np.array(\n",
    "    [-trav_range] * h_dim), high=np.array([trav_range] * h_dim), mean_sample='mean',\n",
    "     trav_steps=20, seed=seed, fold=fold, device=device)"
   ]
  },
  {
   "cell_type": "code",
   "execution_count": null,
   "metadata": {},
   "outputs": [],
   "source": [
    "special = True\n",
    "if special:\n",
    "    saved_pix = glob.glob(os.path.join(os.getcwd(), f'test_sets_{model_id}_*.pkl'))\n",
    "else:\n",
    "    saved_pix = list(glob.glob(os.path.join(os.getcwd(), 'test_sets_font_*.pkl')))\n",
    "print(saved_pix)"
   ]
  },
  {
   "cell_type": "code",
   "execution_count": null,
   "metadata": {},
   "outputs": [],
   "source": [
    "def tra(saved_pix, trav_range, special, spec_imf=''):\n",
    "    for pixel_root in saved_pix:\n",
    "        with open(pixel_root, 'rb') as f:\n",
    "            pixe = pickle.load(f)\n",
    "            pixels = pixe[0]\n",
    "        pix = pixel_root.split(\"_\")[-1][:-4]\n",
    "        if special:\n",
    "            for i in range(len(pixels)):\n",
    "                traverse(mod, h_dim, indexes, pixels[i], im_dir,\n",
    "                        img_num, si=(1, 29, 29), low=[-trav_range]*h_dim, high=[trav_range]*h_dim,\n",
    "                        trav_steps=20, mean_sample='mean', seed=seed, fold=fold, pix=i, special=True, spec_imf=spec_imf)\n",
    "        else:\n",
    "            traverse(mod, h_dim, indexes, pixels[img_num], im_dir,\n",
    "                        img_num, si=(1, 29, 29), low=[-trav_range]*h_dim, high=[trav_range]*h_dim,\n",
    "                        trav_steps=20, mean_sample='mean', seed=seed, fold=fold, pix=pix)"
   ]
  },
  {
   "cell_type": "code",
   "execution_count": null,
   "metadata": {},
   "outputs": [],
   "source": [
    "zos = np.zeros((29, 29))\n",
    "ons = np.ones((29, 29))\n",
    "weird = np.zeros(29*29)\n",
    "weird[0::2] = 1\n",
    "weird = weird.reshape((29, 29))\n",
    "traverse(mod, h_dim, indexes, weird, im_dir,\n",
    "                        img_num, si=(1, 29, 29), low=[-trav_range]*h_dim, high=[trav_range]*h_dim,\n",
    "                        trav_steps=20, mean_sample='mean', seed=seed, fold=fold, pix='zeros_ones_inter', special=True)"
   ]
  },
  {
   "cell_type": "code",
   "execution_count": null,
   "metadata": {},
   "outputs": [],
   "source": [
    "trav_range = 4\n",
    "spec_imf = 'f'\n",
    "\n",
    "if type(saved_pix) == list:\n",
    "    tra(saved_pix, trav_range, special, spec_imf)\n",
    "else:\n",
    "    tra([saved_pix], trav_range, special, spec_imf)"
   ]
  },
  {
   "cell_type": "code",
   "execution_count": null,
   "metadata": {},
   "outputs": [],
   "source": [
    "if special:\n",
    "    blob = col_plotter(ex, seed, fold, img_num, col, np.arange(24), special, trav_range, spec_imf)\n",
    "else:\n",
    "    blob = col_plotter(ex, seed, fold, img_num, col, np.arange(len(saved_pix)), special, trav_range)"
   ]
  },
  {
   "cell_type": "code",
   "execution_count": null,
   "metadata": {},
   "outputs": [],
   "source": [
    "# For recreating figure from pkl files\n",
    "# if special:\n",
    "#     with open(f'good_{imf}_{model_id}_{img_num}_{col}_{trav_range}_special.pkl', 'rb') as f:\n",
    "#         d = pickle.load(f)\n",
    "#         sta = d['start']\n",
    "#         end = d['end']\n",
    "#         wanted_col = d['wanted_col']\n",
    "#         img_data = d['img_data']\n",
    "# else:\n",
    "# #     with open(f'good_{imf}_{model_id}_{img_num}_{col}_{trav_range}.pkl', 'rb') as f:\n",
    "# #     with open(f'good_final_5_4_3868_16_4_10.pkl', 'rb') as f:\n",
    "#         d = pickle.load(f)\n",
    "#         sta = d['start']\n",
    "#         end = d['end']\n",
    "#         wanted_col = d['wanted_col']\n",
    "#         img_data = d['img_data']\n",
    "# print(wanted_col)\n",
    "wanted_col = [0, 1, 11, 23, 8]"
   ]
  },
  {
   "cell_type": "code",
   "execution_count": null,
   "metadata": {},
   "outputs": [],
   "source": [
    "pruned = []\n",
    "for c in wanted_col:\n",
    "    pruned.append(blob[:, (c)*31:(c+1)*31])\n",
    "pruned = np.concatenate(pruned, axis=1)\n",
    "fig, ax = plt.subplots(figsize=(20, 25))\n",
    "plt.xticks(np.arange(len(wanted_col))*31, labels=np.arange(len(wanted_col)))\n",
    "plt.yticks(np.arange(22)*31, labels=np.arange(22))\n",
    "ax.imshow(pruned)"
   ]
  },
  {
   "cell_type": "code",
   "execution_count": null,
   "metadata": {},
   "outputs": [],
   "source": [
    "sta = np.array([8, 8, 8, 5, 7])\n",
    "end = sta + 5\n",
    "plt.gca().set_axis_off()\n",
    "plt.subplots_adjust(top = 1, bottom = 0, right = 1, left = 0, \n",
    "            hspace = 0, wspace = 0)\n",
    "plt.margins(0,0)\n",
    "plt.gca().xaxis.set_major_locator(plt.NullLocator())\n",
    "plt.gca().yaxis.set_major_locator(plt.NullLocator())\n",
    "\n",
    "tops = pruned[:31]\n",
    "sel_prune = np.concatenate([pruned[s*31:e*31, i*31:(i+1)*31] for i, (s, e) in enumerate(zip(sta, end))], axis=1)\n",
    "print(sel_prune.shape, tops.shape)\n",
    "line = np.zeros((7, len(sel_prune[0]), 3))\n",
    "line[3, :] = 1\n",
    "final_prune = np.concatenate((tops, line, sel_prune), axis=0)\n",
    "print(final_prune.shape)\n",
    "plt.imshow(1-final_prune)\n",
    "if special:\n",
    "    plt.savefig(f'good_{spec_imf}_{model_id}_{img_num}_{col}_{trav_range}_special.pdf', bbox_inches = 'tight',\n",
    "    pad_inches = 0, dpi=300)\n",
    "    with open(f'good_{spec_imf}_{model_id}_{img_num}_{col}_{trav_range}_special.pkl', 'wb') as f:\n",
    "        pickle.dump({'img_data': final_prune, 'wanted_col': wanted_col, 'start': sta, 'end': end}, f)\n",
    "else:\n",
    "    plt.savefig(f'good_{imf}_{model_id}_{img_num}_{col}_{trav_range}.pdf', bbox_inches = 'tight',\n",
    "    pad_inches = 0, dpi=300)\n",
    "    with open(f'good_{imf}_{model_id}_{img_num}_{col}_{trav_range}.pkl', 'wb') as f:\n",
    "        pickle.dump({'img_data': final_prune, 'wanted_col': wanted_col, 'start': sta, 'end': end}, f)"
   ]
  },
  {
   "cell_type": "code",
   "execution_count": null,
   "metadata": {},
   "outputs": [],
   "source": [
    "plt.imshow(pruned) "
   ]
  },
  {
   "cell_type": "code",
   "execution_count": null,
   "metadata": {},
   "outputs": [],
   "source": [
    "surround_i = np.concatenate([np.array([(0, -1, 0), (0, 0, -1), (0, -1, -1), \n",
    "            (0, 1, 0), (0, 0, 1), (0, 1, 1),  \n",
    "            (0, 1, -1), (0, -1, 1)]), np.array([(0, -1, 0), (0, 0, -1), (0, -1, -1), \n",
    "            (0, 1, 0), (0, 0, 1), (0, 1, 1),  \n",
    "            (0, 1, -1), (0, -1, 1)])*2, np.array([(0, -1, 0), (0, 0, -1), (0, -1, -1), \n",
    "            (0, 1, 0), (0, 0, 1), (0, 1, 1),  \n",
    "            (0, 1, -1), (0, -1, 1)])*3], axis=0)\n",
    "surround_f = np.concatenate([np.array([(0, -1, 0), (-1, 0, 0), (-1, -1, 0), \n",
    "            (0, 1, 0), (1, 0, 0), (1, 1, 0),  \n",
    "            (1, -1, 0), (-1, 1, 0)]), np.array([(0, -1, 0), (-1, 0, 0), (-1, -1, 0), \n",
    "            (0, 1, 0), (1, 0, 0), (1, 1, 0),  \n",
    "            (1, -1, 0), (-1, 1, 0)])*2, \n",
    "                           np.array([(0, -1, 0), (-1, 0, 0), (-1, -1, 0), \n",
    "            (0, 1, 0), (1, 0, 0), (1, 1, 0),  \n",
    "            (1, -1, 0), (-1, 1, 0)])*3], axis=0)\n",
    "surround = {'i': surround_i, 'f': surround_f}"
   ]
  },
  {
   "cell_type": "code",
   "execution_count": null,
   "metadata": {},
   "outputs": [],
   "source": [
    "data = [imf2idx(sur[1][img_num][0] + x[0], sur[1][img_num][1] + x[1], sur[1][img_num][2] + x[2]) for x in surround[spec_imf]]\n",
    "if spec_imf == 'i':\n",
    "    data.append(imf2idx(sur[1][img_num][0], sur[1][img_num][1], 0))\n",
    "pics = [Xt[i + 11172 * 5] for i in data]\n",
    "indices = [idx2imf(i) for i in data]\n",
    "new_data = [pics, indices]\n",
    "if special:\n",
    "    with open(os.path.abspath(os.path.join(os.getcwd(), f'test_sets_{model_id}_{img_num}_{spec_imf}.pkl')), 'wb') as f:\n",
    "        pickle.dump(new_data, f)\n",
    "else:\n",
    "    with open(os.path.abspath(os.path.join(os.getcwd(), f'test_sets_{model_id}_{img_num}.pkl')), 'wb') as f:\n",
    "        pickle.dump(new_data, f)"
   ]
  },
  {
   "cell_type": "code",
   "execution_count": null,
   "metadata": {},
   "outputs": [],
   "source": [
    "pdf = convert_from_path(f'good_{imf}_{model_id}_{img_num}_{col}.pdf')\n",
    "plt.imshow(pdf[0])"
   ]
  },
  {
   "cell_type": "code",
   "execution_count": null,
   "metadata": {},
   "outputs": [],
   "source": [
    "image = np.array(pdf[0])\n",
    "plt.imshow(image)"
   ]
  },
  {
   "cell_type": "code",
   "execution_count": null,
   "metadata": {},
   "outputs": [],
   "source": [
    "sel_prune = np.concatenate([pruned[s*31:e*31, i*31:(i+1)*31] for i, (s, e) in enumerate(zip(start, end))], axis=0)"
   ]
  },
  {
   "cell_type": "code",
   "execution_count": null,
   "metadata": {},
   "outputs": [],
   "source": [
    "good_img = final_prune"
   ]
  },
  {
   "cell_type": "code",
   "execution_count": null,
   "metadata": {},
   "outputs": [],
   "source": [
    "def invert(img, col=np.array([])):\n",
    "    counter = 38\n",
    "    nrow = len(img-counter)//31\n",
    "    top = img[:counter]\n",
    "    reverse = []\n",
    "    rest = []\n",
    "    print(nrow)\n",
    "    if len(col) != 0:\n",
    "        for i in range(nrow):\n",
    "            reverse.append(img[counter:counter+31, col[0]*31:(col[0]+1)*31])\n",
    "            rest.append(img[counter:counter+31, :col[0]*31])\n",
    "            counter += 31\n",
    "        reverse.reverse()\n",
    "        reverse = np.array(reverse)\n",
    "        rest = np.concatenate(rest, axis=0)\n",
    "        reverse = np.concatenate(reverse, axis=0)\n",
    "        print(reverse.shape, rest.shape, top.shape)\n",
    "        rev = np.concatenate((rest, reverse), axis=1)\n",
    "        rev = np.concatenate((top, rev), axis=0)\n",
    "        print(rev.shape)\n",
    "    else:\n",
    "        for i in range(nrow):\n",
    "            curr = img[counter:counter+31]\n",
    "            reverse.append(curr)\n",
    "            counter += 31\n",
    "        reverse.append(top)\n",
    "        reverse.reverse()\n",
    "        rev = np.concatenate(reverse, axis=0)\n",
    "\n",
    "        \n",
    "    plt.gca().set_axis_off()\n",
    "    plt.subplots_adjust(top = 1, bottom = 0, right = 1, left = 0, \n",
    "                hspace = 0, wspace = 0)\n",
    "    plt.margins(0,0)\n",
    "    plt.gca().xaxis.set_major_locator(plt.NullLocator())\n",
    "    plt.gca().yaxis.set_major_locator(plt.NullLocator())\n",
    "    plt.imshow(1-rev)\n",
    "    plt.savefig(f'good_{imf}_{model_id}_{img_num}_{col}_{trav_range}_rev_special.pdf', bbox_inches = 'tight',\n",
    "    pad_inches = 0)\n",
    "    return rev"
   ]
  },
  {
   "cell_type": "code",
   "execution_count": null,
   "metadata": {},
   "outputs": [],
   "source": [
    "inv_col = np.array([])\n",
    "reverse = invert(good_img, col=inv_col)"
   ]
  },
  {
   "cell_type": "code",
   "execution_count": null,
   "metadata": {},
   "outputs": [],
   "source": [
    "def select_col(img, cols, rows):\n",
    "    im = []\n",
    "    for i in cols:\n",
    "        im.append(img[:, i*31:(i+1)*31])\n",
    "    im = np.concatenate(im, axis=1)\n",
    "    imgs = []\n",
    "    counter = 38\n",
    "    top = im[:counter]\n",
    "    imgs.append(top)\n",
    "    for i in rows:\n",
    "        imgs.append(im[counter:counter+31])\n",
    "        counter += 31\n",
    "    im = np.concatenate(imgs, axis=0)\n",
    "    return im"
   ]
  },
  {
   "cell_type": "code",
   "execution_count": null,
   "metadata": {},
   "outputs": [],
   "source": [
    "good_img = select_col(good_img, [1, 3, 4, 8], [0, 1, 2, 3, 4, 5])\n",
    "plt.imshow(good_img)"
   ]
  },
  {
   "cell_type": "code",
   "execution_count": null,
   "metadata": {},
   "outputs": [],
   "source": [
    "def add_trav_to(img, additional):\n",
    "    final = []\n",
    "    for i in additional:\n",
    "        i = np.pad(i, pad_width=1, mode='constant', constant_values=0)\n",
    "        final.append(i)\n",
    "    final = np.concatenate(final, axis=1)\n",
    "    final = np.repeat(final[:, :, np.newaxis], 3, axis=2)\n",
    "    line = np.zeros((7, len(final[1]), 3))\n",
    "    print(img.shape)\n",
    "    print(line.shape)\n",
    "    print(final.shape)\n",
    "    line[3, :] = 1\n",
    "    im = np.concatenate((img, line, final), axis=0)\n",
    "    plt.gca().set_axis_off()\n",
    "    plt.subplots_adjust(top = 1, bottom = 0, right = 1, left = 0, \n",
    "                hspace = 0, wspace = 0)\n",
    "    plt.margins(0,0)\n",
    "    plt.gca().xaxis.set_major_locator(plt.NullLocator())\n",
    "    plt.gca().yaxis.set_major_locator(plt.NullLocator())\n",
    "    plt.imshow(1-im)\n",
    "    if special:\n",
    "        plt.savefig(f'good_{spec_imf}_{model_id}_{img_num}_{col}_{trav_range}_rev_special_special.pdf', bbox_inches = 'tight',\n",
    "        pad_inches = 0, dpi=300)\n",
    "        with open(f'good_{spec_imf}_{model_id}_{img_num}_{col}_{trav_range}_rev_special_special.pkl', 'wb') as f:\n",
    "            pickle.dump({'img_data': 1-im, 'traverse_to': additional}, f)\n",
    "    else:\n",
    "        plt.savefig(f'good_{imf}_{model_id}_{img_num}_{col}_{trav_range}_rev_special.pdf', bbox_inches = 'tight',\n",
    "        pad_inches = 0, dpi=300)\n",
    "        with open(f'good_{imf}_{model_id}_{img_num}_{col}_{trav_range}_rev_special.pkl', 'wb') as f:\n",
    "            pickle.dump({'img_data': 1-im, 'traverse_to': additional}, f)"
   ]
  },
  {
   "cell_type": "code",
   "execution_count": null,
   "metadata": {},
   "outputs": [],
   "source": [
    "with open(f'good_{imf}_{model_id}_{img_num}_{inv_col}_{trav_range}_rev_special.pkl', 'rb') as f:\n",
    "    good_info = pickle.load(f)\n",
    "    trav_to = good_info['traverse_to']\n",
    "print(len(trav_to))"
   ]
  },
  {
   "cell_type": "code",
   "execution_count": null,
   "metadata": {},
   "outputs": [],
   "source": [
    "good_col = wanted_col"
   ]
  },
  {
   "cell_type": "code",
   "execution_count": null,
   "metadata": {},
   "outputs": [],
   "source": [
    "one = [Xt[imf2idx(16, 17, 1)+11172*good_col[0]], Xt[imf2idx(15, 18, 1)+11172*good_col[1]],\n",
    "       Xt[imf2idx(16, 20, 1)+11172*good_col[2]], Xt[imf2idx(12, 0, 1)+11172*good_col[3]],\n",
    "       Xt[imf2idx(16, 19, 1)+11172*good_col[4]]]\n",
    "\n",
    "add_trav_to(reverse, one)"
   ]
  },
  {
   "cell_type": "code",
   "execution_count": null,
   "metadata": {},
   "outputs": [],
   "source": [
    "def transpose(im):\n",
    "    result = []\n",
    "    counter = 0\n",
    "    nrow = len(im)//31 + 2\n",
    "    ncol = len(im[0])//31\n",
    "    for i in range(nrow):\n",
    "        temp = []\n",
    "        if i == 1 or i == nrow-2:\n",
    "            curr = im[counter:counter+7]\n",
    "            counter += 7\n",
    "            temp = curr.T\n",
    "        else:\n",
    "            curr = im[counter:counter+31]\n",
    "            counter += 31\n",
    "            for j in range(ncol):\n",
    "                temp.append(curr[:, j*31:(j+1)*31])\n",
    "            temp = np.concatenate(temp, axis=0)\n",
    "        result.append(temp)\n",
    "    result = np.concatenate(result, axis=1)\n",
    "    return result"
   ]
  },
  {
   "cell_type": "code",
   "execution_count": null,
   "metadata": {},
   "outputs": [],
   "source": [
    "# Traversal figure generation\n",
    "# Input traversal special pkl files\n",
    "data = []\n",
    "with open('', 'rb') as f:\n",
    "    good_info = pickle.load(f)\n",
    "    data.append(np.mean(good_info['img_data'], axis=2))\n",
    "\n",
    "with open('', 'rb') as f:\n",
    "    good_info = pickle.load(f)\n",
    "    data.append(np.mean(good_info['img_data'], axis=2))\n",
    "    \n",
    "with open('', 'rb') as f:\n",
    "    good_info = pickle.load(f)\n",
    "    data.append(np.mean(good_info['img_data'], axis=2))"
   ]
  },
  {
   "cell_type": "code",
   "execution_count": null,
   "metadata": {},
   "outputs": [],
   "source": [
    "fig, ax = plt.subplots(1, 3, figsize=(6, 2))\n",
    "names = ['Initial Across Fonts', 'Initial Across Blocks', 'Final Across Fonts']\n",
    "gs = gridspec.GridSpec(1, 3,\n",
    "         wspace=0.0, hspace=0.0, \n",
    "         top=1.-0.5/(1+1), bottom=0.5/(1+1), \n",
    "         left=0.5/(3+1), right=1-0.5/(3+1)) \n",
    "for i in range(3):\n",
    "    ax[i].imshow(transpose(data[i]), cmap='gray')\n",
    "    ax[i].axis('off')\n",
    "fig.text(0.125, 0.75, 'A', **style.panel_letter_fontstyle)\n",
    "fig.text(0.4,0.75, 'B', **style.panel_letter_fontstyle)\n",
    "fig.text(0.675, 0.75, 'C', **style.panel_letter_fontstyle)\n",
    "fig.savefig(f'bvae_go_traversals.pdf', bbox_inches = 'tight',\n",
    "        pad_inches = 0, dpi=300)"
   ]
  },
  {
   "cell_type": "code",
   "execution_count": null,
   "metadata": {},
   "outputs": [],
   "source": []
  }
 ],
 "metadata": {
  "kernelspec": {
   "display_name": "Python (virtual_env)",
   "language": "python",
   "name": "virtual_env"
  },
  "language_info": {
   "codemirror_mode": {
    "name": "ipython",
    "version": 3
   },
   "file_extension": ".py",
   "mimetype": "text/x-python",
   "name": "python",
   "nbconvert_exporter": "python",
   "pygments_lexer": "ipython3",
   "version": "3.8.1"
  }
 },
 "nbformat": 4,
 "nbformat_minor": 4
}
